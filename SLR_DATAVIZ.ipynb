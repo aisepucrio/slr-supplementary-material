{
  "cells": [
    {
      "attachments": {},
      "cell_type": "markdown",
      "metadata": {
        "id": "AZT_h61xUlKf"
      },
      "source": [
        "# Initial Setup"
      ]
    },
    {
      "cell_type": "code",
      "execution_count": null,
      "metadata": {
        "id": "UZLYSCUIUX0d"
      },
      "outputs": [],
      "source": [
        "#### Imports\n",
        "import csv\n",
        "import datetime as dt\n",
        "import numpy as np\n",
        "import pandas as pd\n",
        "import matplotlib.pyplot as plt\n",
        "import seaborn as sns\n",
        "from collections import Counter\n",
        "from matplotlib.ticker import FuncFormatter\n",
        "%config InlineBackend.figure_format = 'png'\n",
        "%matplotlib inline\n",
        "\n",
        "#### To ensure tables show all columns (or most of them)\n",
        "pd.options.display.max_columns = 100;\n",
        "\n",
        "#### Style of plots\n",
        "sns.set_style(\"white\")\n",
        "\n",
        "#### Custom parameters\n",
        "tablePath = './SLR_NFR_CLASSIFICATION.xlsx'\n",
        "\n",
        "studyDataSum = pd.read_excel(tablePath, sheet_name='selected_papers_summary')\n",
        "\n",
        "#studyDataEval = pd.read_excel(tablePath, sheet_name='selected_papers_evaluation')\n",
        "studyDataAlg = pd.read_excel(tablePath, sheet_name='selected_papers_algorithms')\n",
        "\n",
        "### Renaming some blank collumns\n",
        "#studyDataEval.rename(columns={list(studyDataEval)[2]:'Type'},inplace=True)\n",
        "studyDataAlg.rename(columns={list(studyDataAlg)[2]:'AlgorithmType'},inplace=True)"
      ]
    },
    {
      "attachments": {},
      "cell_type": "markdown",
      "metadata": {
        "id": "nDowI8pKWmQu"
      },
      "source": [
        "# Functions for DataVisualization"
      ]
    },
    {
      "cell_type": "code",
      "execution_count": null,
      "metadata": {
        "id": "BoCpLuqXWoIo"
      },
      "outputs": [],
      "source": [
        "def showMostUsedNFR():\n",
        "  nfrFrequencyRow = studyDataSum['NFR(s)'].str.split(',').apply(Counter) ##Counting occurrences for each item in it's line/row\n",
        "  totalFrequency = nfrFrequencyRow.sum() ##Summing all occurences to get the total accross all studies\n",
        "  nfrFreq_df = pd.DataFrame.from_dict(totalFrequency, orient='index', columns=['Times Mentioned'])\n",
        " \n",
        "  nfrFreq_df['NFR'] = nfrFreq_df.index\n",
        "  nfrFreq_df.reset_index()\n",
        "  \n",
        "  ### Plotting\n",
        "  nfrFreq_df.sort_values(by='Times Mentioned',ascending=False,inplace=True)\n",
        "\n",
        "  plt.figure(figsize=(7, 5))\n",
        "  sns.set_theme(style='white',font_scale=0.95)\n",
        "  ax = sns.barplot(data=nfrFreq_df,x='Times Mentioned',y='NFR')\n",
        "  ax.xaxis.set_major_formatter(FuncFormatter(lambda x, _: int(x)))\n",
        "  ax.bar_label(ax.containers[0])\n",
        "  ax.tick_params(axis='x',pad=-3)\n",
        "  ax.tick_params(axis='y',pad=-3)\n",
        "  sns.despine()\n",
        "  plt.show()\n",
        "\n",
        "def correlationHeatMapNFR():\n",
        "  nfrFrequencyRow = dict(studyDataSum['NFR(s)'].str.split(',').apply(Counter)) ##Counting occurrences for each item in it's line/row as a dict\n",
        "  nfrFreq_df = pd.DataFrame.from_dict(nfrFrequencyRow,orient='index') ## Creating Dataframe based on it and orienting it so each NFR is a column for each study with the number of occurences in that study as it's value\n",
        "  nfrFreq_df = nfrFreq_df.fillna(0) ## Filling with 0 all NaN so they count as that NFR not having any occurences in that study\n",
        "  matrix_corr = nfrFreq_df.corr()\n",
        "\n",
        "  mask = np.triu(np.ones_like(matrix_corr, dtype=bool))\n",
        "  ##Plotting\n",
        "  plt.figure(figsize=(15, 8))\n",
        "  sns.set_theme(style='white',font_scale=0.9)\n",
        "  heatmap = sns.heatmap(matrix_corr,mask=mask, vmin=-1, vmax=1, annot=True,annot_kws={\"fontsize\":9}, cmap='BrBG')\n",
        "  heatmap.set_title(\"Correlation between all studied NFR's\", fontdict={'fontsize':12}, pad=8);\n",
        "  heatmap.tick_params(axis='x',pad=-3)\n",
        "  heatmap.tick_params(axis='y',pad=-3)\n",
        "  plt.show()\n",
        "\n",
        "def showMostUsedDatasets(colorText):\n",
        "  datasetFrequencyRow = studyDataSum['Dataset: Name/Reference'].str.split(',').apply(Counter)\n",
        "  totalDatasetFrequency = datasetFrequencyRow.sum()\n",
        "  datasetFreq_df = pd.DataFrame.from_dict(totalDatasetFrequency, orient='index', columns=['frequency'])\n",
        "  datasetFreq_df['Dataset'] = datasetFreq_df.index\n",
        "  datasetFreq_df.reset_index()\n",
        "  datasetFreq_df = datasetFreq_df[datasetFreq_df.Dataset != 'Not Specified']\n",
        "\n",
        "  color = sns.color_palette(colorText)\n",
        "\n",
        "  ### Plotting\n",
        "  datasetFreq_df.sort_values(by='frequency',ascending=False,inplace=True)\n",
        "  plt.pie(datasetFreq_df['frequency'],colors=color,autopct=autopct_format(datasetFreq_df['frequency']), explode=(datasetFreq_df['frequency'] == max(datasetFreq_df['frequency'])) *0.05)\n",
        "  plt.legend(title =\"Datasets\",\n",
        "          loc =\"center left\",\n",
        "          bbox_to_anchor =(1, 0, 0.5, 1),labels=datasetFreq_df['Dataset'])\n",
        "  plt.show()\n",
        "\n",
        "\n",
        "def autopct_format(values):\n",
        "    def my_format(pct):\n",
        "        total = sum(values)\n",
        "        val = int(round(pct*total/100.0))\n",
        "        return '{v:d}'.format(v=val)\n",
        "    return my_format\n",
        "\n",
        "def showMostUsedAlgorithms(): #Gambiarra Alert\n",
        "  studyDataAlgTypes = studyDataAlg['AlgorithmType']\n",
        "  studyDataAlgTypes = studyDataAlgTypes.fillna(method='ffill')\n",
        "  key = ''\n",
        "  counter = 1\n",
        "  resultDict ={}\n",
        "  datalist = list(studyDataAlgTypes)\n",
        "  key = str(datalist[0])\n",
        "\n",
        "  for i in range(len(datalist)):\n",
        "    if i < len(datalist)-1:\n",
        "      if datalist[i+1] == key:\n",
        "        counter+=1\n",
        "      else:\n",
        "        resultDict[key] = counter\n",
        "        key = datalist[i+1]\n",
        "        counter = 1\n",
        "\n",
        "  studyAlg_df = pd.DataFrame.from_dict(resultDict,orient='index', columns=['Nº of papers implementing a technique'])\n",
        "  studyAlg_df['Technique'] = studyAlg_df.index\n",
        "  studyAlg_df.reset_index()\n",
        "\n",
        "  ### Plotting\n",
        "  studyAlg_df.sort_values(by='Nº of papers implementing a technique',ascending=False,inplace=True)\n",
        "  sns.set_theme(style='white',font_scale=0.95)\n",
        "  ax = sns.barplot(data=studyAlg_df,x='Nº of papers implementing a technique',y='Technique')\n",
        "  ax.xaxis.set_major_formatter(FuncFormatter(lambda x, _: int(x)))\n",
        "  ax.bar_label(ax.containers[0])\n",
        "  ax.tick_params(axis='x',pad=-3)\n",
        "  ax.tick_params(axis='y',pad=2)\n",
        "  sns.despine()\n",
        "  plt.show()"
      ]
    },
    {
      "attachments": {},
      "cell_type": "markdown",
      "metadata": {
        "id": "3kGLJCCrW2QA"
      },
      "source": [
        "# Applying Functions"
      ]
    },
    {
      "cell_type": "code",
      "execution_count": null,
      "metadata": {
        "colab": {
          "base_uri": "https://localhost:8080/",
          "height": 461
        },
        "id": "ujt-qFwWW2fG",
        "outputId": "951194c4-7f59-4a54-a48f-a23777949798"
      },
      "outputs": [],
      "source": [
        "showMostUsedNFR()"
      ]
    },
    {
      "cell_type": "code",
      "execution_count": null,
      "metadata": {
        "colab": {
          "base_uri": "https://localhost:8080/",
          "height": 898
        },
        "id": "Zn7KUDbnW7PA",
        "outputId": "66d45a60-83f5-432c-9adb-f3c00a237576"
      },
      "outputs": [],
      "source": [
        "correlationHeatMapNFR()"
      ]
    },
    {
      "cell_type": "code",
      "execution_count": null,
      "metadata": {
        "colab": {
          "base_uri": "https://localhost:8080/",
          "height": 406
        },
        "id": "CXDKOQ6uW9KX",
        "outputId": "7ca2cd34-36b0-4953-82d1-2e6357361787"
      },
      "outputs": [],
      "source": [
        "showMostUsedDatasets(\"tab20\")"
      ]
    },
    {
      "cell_type": "code",
      "execution_count": null,
      "metadata": {
        "colab": {
          "base_uri": "https://localhost:8080/",
          "height": 446
        },
        "id": "6_7rySRtXBCw",
        "outputId": "e8ae7598-4252-4916-f049-fc88acc6faa0"
      },
      "outputs": [],
      "source": [
        "showMostUsedAlgorithms()"
      ]
    }
  ],
  "metadata": {
    "colab": {
      "provenance": []
    },
    "kernelspec": {
      "display_name": "Python 3",
      "name": "python3"
    },
    "language_info": {
      "codemirror_mode": {
        "name": "ipython",
        "version": 3
      },
      "file_extension": ".py",
      "mimetype": "text/x-python",
      "name": "python",
      "nbconvert_exporter": "python",
      "pygments_lexer": "ipython3",
      "version": "3.9.12"
    }
  },
  "nbformat": 4,
  "nbformat_minor": 0
}
